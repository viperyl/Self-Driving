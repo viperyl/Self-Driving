{
 "cells": [
  {
   "cell_type": "markdown",
   "metadata": {},
   "source": [
    "# Finding Lane Lines on the Road"
   ]
  },
  {
   "cell_type": "markdown",
   "metadata": {},
   "source": [
    "## 1. Description of the pipelines"
   ]
  },
  {
   "cell_type": "markdown",
   "metadata": {},
   "source": [
    "The pipeline consisted of 5 steps. \n",
    " * (Coverting imgae from rgb to grayscale)\n",
    " * (Applying Gassian blur to smooth graphy)\n",
    " * (Using Canny edge detection to identify the edges in the picture and select the most interest region)\n",
    " * (Applying Hough line transform to detect lines on the image and mark them as blue color)\n",
    " * (Combining images)\n",
    " \n",
    "The following picture shows the effect of Gaussian blur:\n",
    "![avatar](WriteUp_storage/one.png?imageView/2/w/400/q/90)\n",
    "\n",
    "The following picture shows the detection result:\n",
    "![avatar](WriteUp_storage/two.png?imageView/2/w/400/q/90)\n",
    "\n",
    "Finally, In order to draw a single line on the left and right lanes, I modified the drw_lines() functin of lighting noisy lines and I used the average slope and ceter point to compute the start point and end point of the left and right lane lines. The following picture shows the finally result.\n",
    "![avatar](WriteUp_storage/three.png?imageView/2/w/400/q/90)\n",
    "\n"
   ]
  },
  {
   "cell_type": "markdown",
   "metadata": {},
   "source": [
    "## 2. Identify potential shortcomings"
   ]
  },
  {
   "cell_type": "markdown",
   "metadata": {},
   "source": [
    "There are three main potential shortcomingss for my pipelines. \n",
    "* Result may be influenced by the noise lines and output strange mark\n",
    "* Image processing could be faster\n",
    "* All of the parameter have to be set manually,and I used two different set of parameters for two different scenery. Therefore, this pipeline may not very robust and universal to diffeent kinds of imaegs."
   ]
  },
  {
   "cell_type": "markdown",
   "metadata": {},
   "source": [
    "## 3. Suggest possible improvements to my pipelines"
   ]
  },
  {
   "cell_type": "markdown",
   "metadata": {},
   "source": [
    "* Applying a noisy line filtering method to make it more robust.\n",
    "* Using advanced computer vision methods to avoid the influence of lighting. \n",
    "* Using some machine learning algorithm to predict land lane in lighting scenery"
   ]
  }
 ],
 "metadata": {
  "kernelspec": {
   "display_name": "Python 3",
   "language": "python",
   "name": "python3"
  },
  "language_info": {
   "codemirror_mode": {
    "name": "ipython",
    "version": 3
   },
   "file_extension": ".py",
   "mimetype": "text/x-python",
   "name": "python",
   "nbconvert_exporter": "python",
   "pygments_lexer": "ipython3",
   "version": "3.6.3"
  }
 },
 "nbformat": 4,
 "nbformat_minor": 2
}
